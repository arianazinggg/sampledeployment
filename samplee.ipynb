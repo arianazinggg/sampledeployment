{
 "cells": [
  {
   "cell_type": "code",
   "execution_count": 2,
   "metadata": {},
   "outputs": [],
   "source": [
    "import pandas as pd"
   ]
  },
  {
   "cell_type": "code",
   "execution_count": 3,
   "metadata": {},
   "outputs": [],
   "source": [
    "df = pd.read_csv('/workspaces/sampledeployment/Final Yield_Weather (Mindanao).csv')"
   ]
  },
  {
   "cell_type": "code",
   "execution_count": 4,
   "metadata": {},
   "outputs": [
    {
     "data": {
      "text/plain": [
       "Index(['Unnamed: 0', 'Year', 'Location', 'Wind_Direction', 'Wind_Speed_(km/h)',\n",
       "       'temperature_2m (°C)', 'relativehumidity_2m (%)', 'dewpoint_2m (°C)',\n",
       "       'surface_pressure (hPa)', 'et0_fao_evapotranspiration (mm)',\n",
       "       'vapor_pressure_deficit (kPa)', 'soil_temperature_28_to_100cm (°C)',\n",
       "       'soil_moisture_28_to_100cm (m³/m³)', 'direct_radiation (W/m²)',\n",
       "       'diffuse_radiation (W/m²)', 'rain (mm)', 'weathercode (wmo code)',\n",
       "       'windgusts_10m (km/h)', 'cloudcover (%)', 'Production (mt)',\n",
       "       'Area (ha)', 'Yield (mt/ha)'],\n",
       "      dtype='object')"
      ]
     },
     "execution_count": 4,
     "metadata": {},
     "output_type": "execute_result"
    }
   ],
   "source": [
    "df.columns"
   ]
  },
  {
   "cell_type": "code",
   "execution_count": null,
   "metadata": {},
   "outputs": [],
   "source": [
    "df['']"
   ]
  }
 ],
 "metadata": {
  "kernelspec": {
   "display_name": "Python 3",
   "language": "python",
   "name": "python3"
  },
  "language_info": {
   "codemirror_mode": {
    "name": "ipython",
    "version": 3
   },
   "file_extension": ".py",
   "mimetype": "text/x-python",
   "name": "python",
   "nbconvert_exporter": "python",
   "pygments_lexer": "ipython3",
   "version": "3.11.6"
  }
 },
 "nbformat": 4,
 "nbformat_minor": 2
}
